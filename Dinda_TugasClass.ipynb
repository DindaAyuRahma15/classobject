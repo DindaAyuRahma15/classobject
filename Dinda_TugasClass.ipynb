{
  "nbformat": 4,
  "nbformat_minor": 0,
  "metadata": {
    "colab": {
      "provenance": [],
      "include_colab_link": true
    },
    "kernelspec": {
      "name": "python3",
      "display_name": "Python 3"
    },
    "language_info": {
      "name": "python"
    }
  },
  "cells": [
    {
      "cell_type": "markdown",
      "metadata": {
        "id": "view-in-github",
        "colab_type": "text"
      },
      "source": [
        "<a href=\"https://colab.research.google.com/github/DindaAyuRahma15/classobject/blob/main/Dinda_TugasClass.ipynb\" target=\"_parent\"><img src=\"https://colab.research.google.com/assets/colab-badge.svg\" alt=\"Open In Colab\"/></a>"
      ]
    },
    {
      "cell_type": "markdown",
      "source": [
        "Lengkapilah class-class berikut ini."
      ],
      "metadata": {
        "id": "V6n6i25pQnla"
      }
    },
    {
      "cell_type": "markdown",
      "source": [
        "Class Senjata memiliki 2 atribut atribut nama dan poin serta fungsi tembak(). Fungsi tembak mencetak teks \"Dorr\". Dan class senjata ini memiliki konstruktor."
      ],
      "metadata": {
        "id": "DoZvmdSTSDPa"
      }
    },
    {
      "cell_type": "code",
      "source": [
        "class Senjata:\n",
        "  def __init__(self, poin):\n",
        "    self.poin=poin\n",
        "\n",
        "  def tembak(self):\n",
        "    print(f\"Kamu ditembak dengan poin sebesar {self.poin}\")\n",
        "\n"
      ],
      "metadata": {
        "id": "NYeV0w-FR6mf"
      },
      "execution_count": null,
      "outputs": []
    },
    {
      "cell_type": "code",
      "source": [
        "senjata= Senjata(10)\n",
        "senjata.tembak()"
      ],
      "metadata": {
        "colab": {
          "base_uri": "https://localhost:8080/"
        },
        "id": "pm-54FcYXuhN",
        "outputId": "9ec595ea-c3cd-4be3-b7a5-670016721b33"
      },
      "execution_count": null,
      "outputs": [
        {
          "output_type": "stream",
          "name": "stdout",
          "text": [
            "Kamu ditembak dengan poin sebesar 10\n"
          ]
        }
      ]
    },
    {
      "cell_type": "markdown",
      "source": [
        "Class Player memiliki atribut id, nama, skor dan nyawa serta sebuah atribut bertipe objek **Senjata**. Tipe atribut silakan anda tentukan sendiri. Class Player memiliki perilaku mulai, move, set_skor dan get_skor. Class player wajib memiliki kontruktor. Fungsi move() menampilkan teks \"Bergerak\". Fungsi set_skor berfungsi untuk menambah skor dan fungsi get_skor mengembalikan nilai skor."
      ],
      "metadata": {
        "id": "LwRHn7m4SBaJ"
      }
    },
    {
      "cell_type": "code",
      "execution_count": null,
      "metadata": {
        "id": "JC6f_oE5Qhjt"
      },
      "outputs": [],
      "source": [
        "class Player:\n",
        "  def __init__(self, id, nama, skor, nyawa):\n",
        "    self.id=id\n",
        "    self.nama=nama\n",
        "    self.skor=skor\n",
        "    self.nyawa=nyawa\n",
        "\n",
        "\n",
        "\n",
        "  def move(self):\n",
        "    print(\"Bergerak\")\n",
        "\n",
        "  def set_skor(self, tambahan_skor):\n",
        "    self.skor += tambahan_skor\n",
        "\n",
        "  def get_skor(self):\n",
        "    return self.skor\n"
      ]
    },
    {
      "cell_type": "markdown",
      "source": [
        "Terakhir cobalah kedua class tersebut dengan kode program berikut ini."
      ],
      "metadata": {
        "id": "miQK-cUqKAJe"
      }
    },
    {
      "cell_type": "code",
      "source": [
        "plyr=Player(2, \"dinda\", 100, 3)\n",
        "sj=Senjata(20)\n",
        "\n",
        "player1.move()\n",
        "sj.tembak()\n",
        "player1.set_skor(5)\n",
        "print(\"Skor kamu:\", player1.get_skor())"
      ],
      "metadata": {
        "id": "b-sH4vg5KE1p",
        "colab": {
          "base_uri": "https://localhost:8080/"
        },
        "outputId": "30da3cdb-91b0-4331-8100-5a5f71a6ae25"
      },
      "execution_count": null,
      "outputs": [
        {
          "output_type": "stream",
          "name": "stdout",
          "text": [
            "Bergerak\n",
            "Kamu ditembak dengan poin sebesar 20\n",
            "Skor kamu: 105\n"
          ]
        }
      ]
    }
  ]
}